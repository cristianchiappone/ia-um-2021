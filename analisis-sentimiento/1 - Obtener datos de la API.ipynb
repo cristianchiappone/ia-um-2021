{
 "cells": [
  {
   "cell_type": "markdown",
   "id": "00aa51a6",
   "metadata": {},
   "source": [
    "# Obtener datos de la API"
   ]
  },
  {
   "cell_type": "markdown",
   "id": "476598d5",
   "metadata": {},
   "source": [
    "## Obtener una cuenta de Twitter Developer\n",
    "\n",
    "- Crear una cuenta en <a href=\"https://twitter.com/\">Twitter</a> o ingresar a una ya creada\n",
    "- Solicitar una <a href=\"https://developer.twitter.com/en/portal/petition/use-case\">cuenta de developer</a>  \n",
    "<br/>\n",
    "<img src=\"img/twitter_api_1.png\" style=\"width:50%;float:left;border:1px solid black\">\n",
    "<img src=\"img/twitter_api_2.png\" style=\"width:50%;float:left;border:1px solid black\">\n",
    "<img src=\"img/twitter_api_3.png\" style=\"width:50%;float:left;border:1px solid black\">\n",
    "<img src=\"img/twitter_api_4.png\" style=\"width:50%;float:left;border:1px solid black\">\n",
    "\n",
    "#### How will you use the Twitter API or Twitter Data?\n",
    "\n",
    "I will search and filter tweets with specific hashtags in order to perform data mining and sentiment analysis practices. These tasks are part of the Artificial Intelligence course. The extracted data will not be used for any other purpose.\n",
    "\n",
    "#### Are you planning to analyze Twitter data?\n",
    "\n",
    "I will perform sentiment analysis of the content of the tweets and their geographical location. The type of content of each tweet will be evaluated (links, images, videos)\n",
    "\n",
    "\n",
    "<br/><br/>\n",
    "<img src=\"img/twitter_api_5.png\" style=\"width:50%;float:left;border:1px solid black\">\n",
    "<img src=\"img/twitter_api_6.png\" style=\"width:50%;float:left;border:1px solid black\">\n",
    "\n",
    "\n",
    "### Responder mail\n",
    "\n",
    "Si Twitter envía un mail solicitando más información responder con el siguiente mensaje.\n",
    "\n",
    "<code>\n",
    "    I will search and filter tweets with specific hashtags in order to perform data mining and sentiment analysis practices. These tasks are part of the Artificial Intelligence course. The extracted data will not be used for any other purpose.\n",
    "    I will perform sentiment analysis of the content of the tweets and their geographical location. The type of content of each tweet will be evaluated (links, images, videos)\n",
    "    I will not be using the Tweeting, Retweeting, or liking content. I will only use the API to obtain tweets content.\n",
    "    The content of the tweets will not be shown. The content will only be used to carry out data analysis exercises during the course.\n",
    "</code>"
   ]
  },
  {
   "cell_type": "markdown",
   "id": "bb0c7749",
   "metadata": {},
   "source": [
    "## Crear aplicación\n",
    "\n",
    "- Crear proyecto\n",
    "- Crear aplicación dentro del proyecto\n",
    "- Obtener y guardar claves (copiar todas las claves antes de continuar ya que no pueden ser accedidas más adelante)\n",
    "\n",
    "<br/>\n",
    "<img src=\"img/twitter_api_8.png\" style=\"width:30%;float:left;border:1px solid black\">\n",
    "<img src=\"img/twitter_api_7.png\" style=\"width:70%;float:left;border:1px solid black\">\n"
   ]
  },
  {
   "cell_type": "markdown",
   "id": "14ffa3e4",
   "metadata": {},
   "source": [
    "## Cargar Token en variables de entorno\n",
    "\n",
    " - Cargar el valor del token en un archivo .env\n",
    " <code>export 'BEARER_TOKEN'='valor del bearer token' </code>\n",
    " - Agregar el archivo .env dentro del .gitignore en caso de trabajar en repositorio"
   ]
  },
  {
   "cell_type": "markdown",
   "id": "a6817282",
   "metadata": {},
   "source": [
    "## Cargar valor del Token en la aplicación"
   ]
  },
  {
   "cell_type": "code",
   "execution_count": 116,
   "id": "0213a32e",
   "metadata": {},
   "outputs": [],
   "source": [
    "import os\n",
    "from dotenv import load_dotenv\n",
    "# Cargar valores del archivo .env en las variables de entorno\n",
    "load_dotenv()\n",
    "# Cargar valor del token a variable\n",
    "bearer_token = os.environ.get(\"BEARER_TOKEN\")\n"
   ]
  },
  {
   "cell_type": "markdown",
   "id": "e6a81d9c",
   "metadata": {},
   "source": [
    "## Definir consulta a la API\n",
    "\n",
    "### URL de la consulta\n",
    "\n",
    "Definir la URL de acuerdo a los datos requeridos de acuerdo a la documentación de la <a href=\"https://developer.twitter.com/en/docs/twitter-api/api-reference-index\">API</a>"
   ]
  },
  {
   "cell_type": "code",
   "execution_count": 80,
   "id": "83639c4e",
   "metadata": {},
   "outputs": [],
   "source": [
    "url = \"https://api.twitter.com/2/tweets/search/recent\""
   ]
  },
  {
   "cell_type": "markdown",
   "id": "ad037fc5",
   "metadata": {},
   "source": [
    "## Definir parámetros adicionales\n",
    "\n",
    "Definr valores como el rango de fecha, hashtag, contenido y campos requeridos."
   ]
  },
  {
   "cell_type": "code",
   "execution_count": 81,
   "id": "2a1db13b",
   "metadata": {},
   "outputs": [],
   "source": [
    "params = {\n",
    "    'query': '#machinelearning -is:retweet',\n",
    "    'tweet.fields':'created_at',\n",
    "    'max_results':100\n",
    "}"
   ]
  },
  {
   "cell_type": "markdown",
   "id": "49e682b1",
   "metadata": {},
   "source": [
    "## Definir cabecera\n",
    "La cabecera debe llevar el Token de autenticación para que la consulta sea autorizada\n"
   ]
  },
  {
   "cell_type": "code",
   "execution_count": 82,
   "id": "c61ebc83",
   "metadata": {},
   "outputs": [],
   "source": [
    "headers = {\n",
    "    \"Authorization\": f\"Bearer {bearer_token}\",\n",
    "    \"User-Agent\":\"v2FullArchiveSearchPython\"\n",
    "} "
   ]
  },
  {
   "cell_type": "markdown",
   "id": "c44ae17d",
   "metadata": {},
   "source": [
    "## Realizar consulta"
   ]
  },
  {
   "cell_type": "code",
   "execution_count": 83,
   "id": "797b5954",
   "metadata": {},
   "outputs": [
    {
     "name": "stdout",
     "output_type": "stream",
     "text": [
      "<Response [200]>\n",
      "{'data': [{'created_at': '2021-10-07T13:22:10.000Z', 'id': '1446103559129403392', 'text': 'Understand the concept of #dataannotation and its advantages! https://t.co/i1ITnRN1iz\\n\\n#DataLabeling #DataMining #ImageAnnotation #ArtificialIntelligence #AI #MachineLearning #ML #DeepLearning\\n\\ncc: @alexjc @karpathy @AndrewYNg @andyjankowski @bobgourley @CadeMetz @chrismessina https://t.co/W4ipgg6wvL'}, {'created_at': '2021-10-07T13:22:04.000Z', 'id': '1446103533036597248', 'text': 'How To Identify AI Opportunities https://t.co/VOzfpmIqSa … \\n\\n#MachineLearning #DataScience #Python #AI #100DaysOfCode #DEVCommunity #IoT #flutter #javascript #Serverless #womenintech #cybersecurity  #CodeNewbie #technology #WomenWhoCode  #DeepLearning #Job #innovation #startups https://t.co/sJMC03OeM7'}, {'created_at': '2021-10-07T13:22:01.000Z', 'id': '1446103522789842945', 'text': '#python #statistics #pythonprogramming #datascience #bigdata #machinelearning #programming  #ArtificialIntelligence  #100DaysOfCode #IoT #internetofthing #DataScientists  #DataAnalytics #DataSecurity  #regression #sas #rprogramming #algorithms #youtube #YouTubeShorts #ADS https://t.co/MBk7mZ5ok3'}, {'created_at': '2021-10-07T13:21:54.000Z', 'id': '1446103491693404160', 'text': '#AIIP the company is just super, would be more such companies. Who wants to earn a lot of money,I advise everyone to pay attention to it. https://aiip.oi/ #investment #AIIPpromo #AIIP #AI #Deeplearning #Machinelearning'}, {'created_at': '2021-10-07T13:21:21.000Z', 'id': '1446103354858426368', 'text': 'Why https://t.co/l73NF13eOx ?\\n\\n#ArtificialIntelligence #MachineLearning #MLOps #trustworthyAI https://t.co/5GTWgNclaq'}, {'created_at': '2021-10-07T13:21:03.000Z', 'id': '1446103277695733761', 'text': 'An independently validated, portable algorithm for the rapid identification of COPD patients using electronic health records https://t.co/O939S26p4u #MachineLearning #NatureJournal #AI'}, {'created_at': '2021-10-07T13:20:09.000Z', 'id': '1446103050054144014', 'text': '#womenintech #django #nocode #javascript #github #nodejs #cybersecurity #devops #100DaysOfCode #datascience #ai #bot #codenewbie #iot #machinelearning #Python #Serverless #womenintech #marketing #precisionmarketing #postcovid https://t.co/cWVLIlWLPt'}, {'created_at': '2021-10-07T13:20:05.000Z', 'id': '1446103034719838215', 'text': \"U. Missouri to develop cyber brain for 'smart' device. #Iot #security #smartdevices #machinelearning https://t.co/cjW6QYvgUQ https://t.co/aHySCMuqRz\"}, {'created_at': '2021-10-07T13:20:03.000Z', 'id': '1446103025341304836', 'text': 'What’s the difference between data analytics, data science, and machine learning?\\n\\nhttps://t.co/1lFlxPlTWf\\n\\n#data #dataanalytics #datascience #machinelearning'}, {'created_at': '2021-10-07T13:20:00.000Z', 'id': '1446103014196973579', 'text': 'Using Machine Learning for Anomaly Detection and Ransomware Recovery | @CIOonline\\n\\n#machinelearning #ransomware #anomalydetection https://t.co/0A30CBkiDa'}, {'created_at': '2021-10-07T13:20:00.000Z', 'id': '1446103013345701892', 'text': 'NEED a JOB?\\nSign up now https://t.co/rMErDJMv4h\\nNO MIDDLEMAN. FREE OF CHARGE\\n#Job #JobSearch #work #DataAnalytics #MachineLearning #Python #JavaScript #WomenWhoCode #Programming #Coding #100DaysofCode #DEVCommunity #gamedev #gamedevelopment #indiedev #IndieGameDev #Mobile #gamers https://t.co/y4q2pkzkIe'}, {'created_at': '2021-10-07T13:19:42.000Z', 'id': '1446102940251398149', 'text': \"New Task Alert!\\nWe are looking for Hebrew Native Hebrew Speakers to record 30 short sentences. \\n\\nThis is an invite-only task, so if you're interested, please fill out this form: \\nhttps://t.co/0z9I1qYEYO\\n\\n#Hebrew #MachineLearning\"}, {'created_at': '2021-10-07T13:19:39.000Z', 'id': '1446102928045993989', 'text': 'The latest The Sustainability Daily! https://t.co/3y1Y8AvvEA #ai #machinelearning'}, {'created_at': '2021-10-07T13:19:39.000Z', 'id': '1446102927240830978', 'text': '#ai #ml #artificialintelligence #machinelearning #datascience #bigdata #analytics #blockchain #tech #data @kuriharan @mvollmer1 @rwang0 @DunkenKBliths @nigewillson\\nLight Field Lab shows off SolidLight high-res holographic display https://t.co/zQS5sLTdRv'}, {'created_at': '2021-10-07T13:19:22.000Z', 'id': '1446102856705220613', 'text': 'DIGITAL LEARNING, KNOWLEDGE &amp; THE BRAIN wurde soeben publiziert! https://t.co/iubHr2Xrab Vielen Dank an @DrXaverius #ai #machinelearning'}, {'created_at': '2021-10-07T13:18:58.000Z', 'id': '1446102754863181824', 'text': 'How To Identify AI Opportunities https://t.co/VOzfpmIqSa … \\n\\n#MachineLearning #DataScience #Python #AI #100DaysOfCode #DEVCommunity #IoT #flutter #javascript #Serverless #womenintech #cybersecurity  #CodeNewbie #technology #WomenWhoCode  #DeepLearning #Job #innovation #startups https://t.co/D7Jm9EktRm'}, {'created_at': '2021-10-07T13:18:40.000Z', 'id': '1446102676450775040', 'text': \"We've just updated our Crypto Corner news stream to keep up with everything to do with cryptocurrencies, to digital assets to blockchain technologies.  Check it out https://t.co/03qM5SilL4 Special thanks to @swimbaby5 @BBNTimes_en @SurfsUpDude69 #machinelearning #ai\"}, {'created_at': '2021-10-07T13:18:39.000Z', 'id': '1446102675280519168', 'text': 'What Has Machine Learning Been Up To In Healthcare?\\n- Design of Intervention\\n- Prediction of Outcomes\\n- Allocation of Resources\\n\\n#MachineLearning #ArtificialIntelligence \\nhttps://t.co/BREtx6UmnY'}, {'created_at': '2021-10-07T13:18:22.000Z', 'id': '1446102603733999620', 'text': \"I've just updated my webpage with some great articles. Check it out https://t.co/jvrATwJAh9 #ai #machinelearning\"}, {'created_at': '2021-10-07T13:18:06.000Z', 'id': '1446102534888828932', 'text': 'Maths behind machine learning - AImpact https://t.co/wCigaSAkSV  #machinelearning #datascience #bigdata #ad'}, {'created_at': '2021-10-07T13:18:06.000Z', 'id': '1446102534582530056', 'text': '#datascience #machinelearning #programming #python 5 Reasons to Learn Python in 2021 https://t.co/FTPuJlWL4n'}, {'created_at': '2021-10-07T13:18:00.000Z', 'id': '1446102510263963653', 'text': 'Zombie Formalist №1 (Circles) | #ZombieFormalist #Art #MachineLearning #GenerativeArt https://t.co/F1tfHg2nqo'}, {'created_at': '2021-10-07T13:17:52.000Z', 'id': '1446102475409395715', 'text': 'A new dawn in AI and quantum computing now looks tantalisingly close\\nhttps://t.co/5H11v1zPAQ\\n@HaroldSinnott @JimMarous @v_vashishta\\n#IoT #BigData #MachineLearning #ML #ArtificialIntelligence #fintech #tech #blockchain #DataScience #DeepLearning #2BaseTechnologies'}, {'created_at': '2021-10-07T13:17:45.000Z', 'id': '1446102449287151619', 'text': 'https://t.co/jXAMPIy8i6\\n\\nWhat this amazinng video on Solution to AI library, package and code Management | DATMO\\n\\n#docker #machinelearning #artificialintelligence #datmo #pytorch #tensorflow #jupyter #python35 #tensorflow #keras #sklean'}, {'created_at': '2021-10-07T13:17:43.000Z', 'id': '1446102438503751680', 'text': 'The latest The GWSE Daily Daily! https://t.co/hszCKbWxjb Thanks to @GoodVsEvil17 #machinelearning #ai'}, {'created_at': '2021-10-07T13:17:13.000Z', 'id': '1446102312154456064', 'text': '#Investment #AIIPpromo #AIIP #AI #DeepLearning #MachineLearning https://t.co/KmftGNfqQW https://t.co/jwmqu7JgtP'}, {'created_at': '2021-10-07T13:17:02.000Z', 'id': '1446102269427081222', 'text': 'RT @Cambridge_Eng: #PhDstudent @JamesAllingham has been awarded $40,000 in funding from @Qualcomm_EU to support his #MachineLearning #research project with the potential to positively affect #health-related or #safety-critical applications 👏\\n\\nhttps://t.co/2iE3ijLAjW\\n\\n@Cambr…'}, {'created_at': '2021-10-07T13:16:33.000Z', 'id': '1446102146148044810', 'text': 'Why predictive modelling and machine learning can revolutionise the biopharma industry - PharmaTimes https://t.co/1VqBV0jWOA #machinelearning #ai #technology https://t.co/sWHIchgK9a'}, {'created_at': '2021-10-07T13:16:15.000Z', 'id': '1446102070596042760', 'text': 'The latest The Artificial intelligence Daily! https://t.co/kQe5TrKPxr #ai #machinelearning'}, {'created_at': '2021-10-07T13:15:51.000Z', 'id': '1446101968259256324', 'text': 'Samsung introduces the first the Scalable Development Memory Kit (SMDK) to support the CXL memory platform, with easier-to-access memory tools for emerging AI technology, machine learning, and 5G-edge markets. #machinelearning #5G #memory\\nLearn more: https://t.co/Z6dYH8BDP2 #AI'}, {'created_at': '2021-10-07T13:15:47.000Z', 'id': '1446101952522334213', 'text': 'Using Machine Learning for Quick, Secure, and Effective Production #Learning #machinelearning #ui via https://t.co/ypYmUnY8pA https://t.co/rYnEns9Gew'}, {'created_at': '2021-10-07T13:15:28.000Z', 'id': '1446101873468059655', 'text': 'The latest The Technology Daily! https://t.co/jkF83CSzZG #ai #machinelearning'}, {'created_at': '2021-10-07T13:15:21.000Z', 'id': '1446101841876504584', 'text': 'Worldwide AI Training Dataset Industry to 2028 – Featuring Appen, Cogito Tech and S -  https://t.co/Cvs5LNyWht #machinelearning #intoAInews'}, {'created_at': '2021-10-07T13:15:18.000Z', 'id': '1446101831726157826', 'text': 'Interesting early predictions of #BiggBossTamil winner by #MachineLearning\\n\\n👉https://t.co/vCoh19eZuR\\n\\nAs per LogisticRegression winner can b #PriyankaDeshpande #PavaniReddy\\nAs per RandomForest winner can b #Pavani #Abhinay\\n\\n#BBTamil #BiggBoss5Tamil #TamilBiggBoss #BiggBossTamil5'}, {'created_at': '2021-10-07T13:15:15.000Z', 'id': '1446101817172037633', 'text': 'Easy Guide To Data Preprocessing In Python \\n\\n#programming #database #Data #DataScientists #Analytics #BigData #AI #Python #DataScience #Tech #IoT #ML #NLP #javascript #TensorFlow #Coding #Serverless\\xa0 #100DaysOfCode #Dataviz #MachineLearning \\n#Devops\\n https://t.co/5SJKdbWd9U https://t.co/592AqId3lv'}, {'created_at': '2021-10-07T13:15:10.000Z', 'id': '1446101795982528515', 'text': 'Neustar Launches Optimizer™, a New Closed-Loop Marketing Optimization and Consumer … -  https://t.co/YCOVw1lo23 #machinelearning #intoAInews'}, {'created_at': '2021-10-07T13:15:05.000Z', 'id': '1446101777154289668', 'text': 'How Cognitive Bias in AI Impacts Business Outcomes https://t.co/tFR4LlnhSs #ArtificialIntelligence #CognitiveBias #RPA #NLP #AI #EmergingTech #InsightsEngine #MachineLearning #Digital #Mindbreeze #Coruzant #TheDigitalExecutive'}, {'created_at': '2021-10-07T13:15:01.000Z', 'id': '1446101759882108929', 'text': 'Why predictive modelling and machine learning can revolutionise the biopharma -  https://t.co/lczOfiX34B #machinelearning #intoAInews'}, {'created_at': '2021-10-07T13:15:00.000Z', 'id': '1446101755486511105', 'text': 'NEED a JOB?\\nSign up now https://t.co/rMErDJMv4h\\nNO MIDDLEMAN. FREE OF CHARGE\\n#Job #JobSearch #work #DataAnalytics #MachineLearning #Python #JavaScript #WomenWhoCode #Programming #Coding #100DaysofCode #DEVCommunity #gamedev #gamedevelopment #indiedev #IndieGameDev #Mobile #gamers https://t.co/9VGOjlZGua'}, {'created_at': '2021-10-07T13:14:48.000Z', 'id': '1446101704286613514', 'text': 'K-State Salina introduces applied data science and machine learning program for -  https://t.co/9E86T5mTJK #machinelearning #intoAInews'}, {'created_at': '2021-10-07T13:14:44.000Z', 'id': '1446101689438715910', 'text': 'The latest The Strategy Daily! https://t.co/jT3FVWgULt #ai #machinelearning'}, {'created_at': '2021-10-07T13:14:38.000Z', 'id': '1446101661500444675', 'text': 'The First Rule of Machine Learning: Start without Machine Learning – Predictive A -  https://t.co/pAFIhB77Ih #machinelearning #intoAInews'}, {'created_at': '2021-10-07T13:14:30.000Z', 'id': '1446101629946769419', 'text': 'Aible Announces Collaboration with Intel to Accelerate Business Impact from -  https://t.co/1e0kW8NUHO #machinelearning #intoAInews'}, {'created_at': '2021-10-07T13:14:02.000Z', 'id': '1446101513668108288', 'text': '#ArcSight Intelligence, powered by unsupervised #MachineLearning, discovers malicious events and actors by monitoring security events. See how in this article from @mybroadband: #SOC #UEBA #CyberResilience @MicroFocusSec https://t.co/p2222a47JM https://t.co/eeQsfyoBZL'}, {'created_at': '2021-10-07T13:12:45.000Z', 'id': '1446101188563247105', 'text': 'https://t.co/VjaCH48lI4\\n#Investment #AIIPpromo #AIIP #AI #DeepLearning #MachineLearning https://t.co/TYHQcRnVnw'}, {'created_at': '2021-10-07T13:12:44.000Z', 'id': '1446101184385740809', 'text': 'China Gas adopts AI solution in digital transformation drive. \\nhttps://t.co/7K3INx16bT \\n#AI #ArtificialIntelligence #DigitalTransformation #MachineLearning #python #techtransformation'}, {'created_at': '2021-10-07T13:12:37.000Z', 'id': '1446101157605216257', 'text': 'Announcing #HCLCommerce on NOW\\n#ecommerce #platform\\n\\n#hclswlobp #nocode #lowcode #javascript #nodejs #cybersecurity #Python #github #codenewbie #DEVCommunity #Serverless #womenintech #100DaysOfCode #flutter #ai #bot #machinelearning #datascience #powerapps https://t.co/ijFMIyseZF'}, {'created_at': '2021-10-07T13:12:19.000Z', 'id': '1446101080790601728', 'text': 'Microsoft Excel Complete Course #BigData #learning #machinelearning  https://t.co/IQ92CzzLKT'}, {'created_at': '2021-10-07T13:12:12.000Z', 'id': '1446101051573157892', 'text': 'Curious how #AutomotiveIndustry is leveraging #AI at scale? Learn more about moving #machinelearning from the cloud to edge devices. See how #FederatedLearning on top of edge #ML is changing the game! Read here: https://t.co/9rAXUywJHM\\n\\n#SoftwareDefinedVehicle'}, {'created_at': '2021-10-07T13:11:05.000Z', 'id': '1446100768558182405', 'text': 'NEED a JOB?\\nSign up now https://t.co/2KBN4xUoTj\\nNO MIDDLEMAN. FREE OF CHARGE\\n#Job #JobSearch #work #DataAnalytics #MachineLearning #Python #JavaScript #WomenWhoCode #Programming #Coding #100DaysofCode #DEVCommunity #gamedev #gamedevelopment #indiedev #IndieGameDev #Mobile'}, {'created_at': '2021-10-07T13:11:02.000Z', 'id': '1446100758806544385', 'text': '5 Important Social Media Metrics Your #Business Needs To Track\\nby @BootstrapsBiz\\n\\nGo to: https://t.co/LFlCXfEcPj\\n\\n#AI #BigData #MachineLearning #ArtificialIntelligence #Cloud #ML #MI #Blockchain #Digital #DataScience\\n\\nCc: @mikeschiemer @jose_garde @modernimprint https://t.co/rJDlx2IwDN'}, {'created_at': '2021-10-07T13:10:30.000Z', 'id': '1446100623720697857', 'text': 'I registered for @US_FDA meeting on #ArtificialIntelligence &amp; #MachineLearning Have you?\\n@BeLikeLight @TheLizArmy\\n@danamlewis @AmyPricePhD\\n@BraveBosom @GraceCordovano\\n@thelupusrainbow @MyBreastYrsAhd @eperakslis\\n@ePatientDave #transparency\\n#Algorithms \\nhttps://t.co/Nt1y7gI1k2'}, {'created_at': '2021-10-07T13:10:14.000Z', 'id': '1446100557245161472', 'text': 'The latest The Software Daily! https://t.co/8JI7Zq9B3V Thanks to @mape_llm @krumjahn #machinelearning #ai'}, {'created_at': '2021-10-07T13:10:13.000Z', 'id': '1446100550320226316', 'text': 'What makes a race great? Join this live Hands on Lab and discover first-hand the basics of #analytics and #machinelearning. @redbullracing @OracleAnalytics https://t.co/el6VSKpxu4 https://t.co/Zm2WZyqrzr'}, {'created_at': '2021-10-07T13:10:02.000Z', 'id': '1446100506649243648', 'text': 'Recommendations AI data ingestion https://t.co/kRNbrHqncL #GCP #Google #GoogleCloud #AI #MachineLearning'}, {'created_at': '2021-10-07T13:10:01.000Z', 'id': '1446100500391383043', 'text': 'The Road Ahead for Speech Recognition Technology https://t.co/geaXrtlA9P #MachineLearning #AI #NLP #SpeechRecognition #EmergingTech #NaturalLanguageProcessing #Technology #SpeechMatics #Coruzant'}, {'created_at': '2021-10-07T13:10:00.000Z', 'id': '1446100496549220353', 'text': 'NEED a JOB?\\nSign up now https://t.co/rMErDK45VP\\nNO MIDDLEMAN. FREE OF CHARGE\\n#Job #JobSearch #work #DataAnalytics #MachineLearning #Python #JavaScript #WomenWhoCode #Programming #Coding #100DaysofCode #DEVCommunity #gamedev #gamedevelopment #indiedev #IndieGameDev #Mobile #gamers https://t.co/fCkjbopKpu'}, {'created_at': '2021-10-07T13:09:37.000Z', 'id': '1446100399321071621', 'text': '#datascience #machinelearning #programming #python 5 Reasons to Learn Python in 2021 https://t.co/xUU8ecs9UC'}, {'created_at': '2021-10-07T13:09:12.000Z', 'id': '1446100296065761282', 'text': 'your daily dada has arrived https://t.co/2IVzX3dfly Stories via @meri_mc66 @BCinKW #ai #machinelearning'}, {'created_at': '2021-10-07T13:09:11.000Z', 'id': '1446100292865568782', 'text': '[Good Article] Performance Metrics in ML\\n\\n#machinelearning #artificialintelligence #technology #ml #econometrics https://t.co/VDB5S3evUH'}, {'created_at': '2021-10-07T13:09:03.000Z', 'id': '1446100257230753798', 'text': 'The ethical considerations of #datacollection, #dataanalysis, #machinelearning models, and #AI analytics need to be a focus of every #secops team. \\n@eeksock shares key considerations—and guidelines—on @TechBeaconCOM https://t.co/5ya2ai8LCm https://t.co/BzJFwiMZAw'}, {'created_at': '2021-10-07T13:08:56.000Z', 'id': '1446100229556670466', 'text': 'Your #digitalexperience needs to be everywhere!\\n#lowcode\\n\\n#nocode #hclswlobp #javascript #cybersecurity #Python #100DaysOfCode #flutter #nodejs #github #codenewbie #ai #bot #womenintech #Serverless #datascience #machinelearning #DEVCommunity #robotics\\n https://t.co/ilOyo7efln'}, {'created_at': '2021-10-07T13:08:44.000Z', 'id': '1446100176649732099', 'text': 'Cluster Analysis in Python. In this course, you will be introduced to unsupervised learning through techniques such as hierarchical and k-means clustering using the SciPy library https://t.co/XokKzRgKqT #python #clustering #machinelearning'}, {'created_at': '2021-10-07T13:07:54.000Z', 'id': '1446099967102398467', 'text': \"I've just updated my webpage with some great articles. Check it out https://t.co/TAfCmJe8Tz #machinelearning #ai\"}, {'created_at': '2021-10-07T13:07:03.000Z', 'id': '1446099754333597707', 'text': '#datascience #machinelearning #programming #python 5 Reasons to Learn Python in 2021 https://t.co/7VmtpTUcQy'}, {'created_at': '2021-10-07T13:06:11.000Z', 'id': '1446099536242364419', 'text': 'Penn Medicine Researchers Awarded $14 Million ... \\nhttps://t.co/MvRwC9f0je\\n#ClinicalPsychology #EmergencyDepartments #Gregory #Health #HealthEconomics #MachineLearning #MentalHealth #PennMedicine #Pennsylvania #Planning #Psychiatry #SuicidePrevention #Telehealth #UnitedStates https://t.co/LSuT6gaR54'}, {'created_at': '2021-10-07T13:06:06.000Z', 'id': '1446099515342196738', 'text': 'The latest The Neil Hambly Daily! https://t.co/021AUhIopO Thanks to @TheCuriousLuke #machinelearning #ai'}, {'created_at': '2021-10-07T13:06:05.000Z', 'id': '1446099511135379463', 'text': \"I'm especially keen to hear from students interested in pushing forward survey and remote sensing in #archaeology. Current students are working on topics including the impact of #VR and #MachineLearning  on archaeological post-excavation and survey practices. https://t.co/NmplsAxuoi\"}, {'created_at': '2021-10-07T13:05:29.000Z', 'id': '1446099362841600003', 'text': 'The latest in blockchain, AI, and biohacking!  https://t.co/3DCVKOCCxP #ai #machinelearning'}, {'created_at': '2021-10-07T13:05:02.000Z', 'id': '1446099246977994755', 'text': \"The latest Martin's Daily Digest! https://t.co/vd66TbB6q4 Thanks to @CompSciFact #machinelearning #ai\"}, {'created_at': '2021-10-07T13:05:00.000Z', 'id': '1446099240720248839', 'text': 'How Cognitive Bias in AI Impacts Business Outcomes https://t.co/TsKQSgOL9p #ArtificialIntelligence #CognitiveBias #RPA #NLP #AI #EmergingTech #InsightsEngine #MachineLearning #Digital #Mindbreeze #Coruzant'}, {'created_at': '2021-10-07T13:05:00.000Z', 'id': '1446099240363646978', 'text': 'Machine Learning is Changing the Landscape of DEI Recruitment https://t.co/GUqxvB07Cz #AI #CognitiveBias #MachineLearning #Recruitment #Diversity #ArtificialIntelligence #EmergingTech #Technology #Knockri #Coruzant #TheDigitalExecutive'}, {'created_at': '2021-10-07T13:05:00.000Z', 'id': '1446099238895685639', 'text': 'Comparative analysis of #machinelearning -based approaches for identifying therapeutic peptides targeting #SARSCoV2\\n\\n#Covid19 #bioinformatics @BriefingBioinfo \\n\\nhttps://t.co/Rt3ut9PRzf https://t.co/VWKQkIMWJJ'}, {'created_at': '2021-10-07T13:05:00.000Z', 'id': '1446099238656491523', 'text': 'Autonomous car free space detection \\n\\n#driverlesscars #autonomouscars #autonomousvehicles \\n#machinelearning #deeplearning #computervision #ml #dl #ai https://t.co/KjTxZk5CyF'}, {'created_at': '2021-10-07T13:05:00.000Z', 'id': '1446099238509633536', 'text': 'NEED a JOB?\\nSign up now https://t.co/rMErDK45VP\\nNO MIDDLEMAN. FREE OF CHARGE\\n#Job #JobSearch #work #DataAnalytics #MachineLearning #Python #JavaScript #WomenWhoCode #Programming #Coding #100DaysofCode #DEVCommunity #gamedev #gamedevelopment #indiedev #IndieGameDev #Mobile #gamers https://t.co/q1hM1GKRof'}, {'created_at': '2021-10-07T13:04:58.000Z', 'id': '1446099232033812485', 'text': 'A Portuguese in Brazil is out. https://t.co/SfDqSh4abq #ai #machinelearning'}, {'created_at': '2021-10-07T13:04:48.000Z', 'id': '1446099190753419272', 'text': 'The latest The #SocialMediaMarketing Daily! https://t.co/msxg2OZaRo Thanks to @GPWriter #ai #machinelearning'}, {'created_at': '2021-10-07T13:04:47.000Z', 'id': '1446099183707074566', 'text': 'The latest Rwanda Today ! https://t.co/mRa7RYcaPk #ai #machinelearning'}, {'created_at': '2021-10-07T13:03:51.000Z', 'id': '1446098950554099713', 'text': 'Cross Validation #ArtificialIntelligence #learning #machinelearning  https://t.co/eW93SeysxP'}, {'created_at': '2021-10-07T13:03:09.000Z', 'id': '1446098774225416192', 'text': '#datascience #machinelearning #programming #python 5 Reasons to Learn Python in 2021 https://t.co/e4ua0827tM'}, {'created_at': '2021-10-07T13:03:01.000Z', 'id': '1446098739425210368', 'text': 'Will #DataAnalysts be #Replaced by #AI?  \\nhttps://t.co/ccu33He9j7\\n\\n#MachineLearning #AI #Python #DataScience #BigData\\n#DeepLearning #IoT #100DaysOfCode #robots #fintech #insurtech\\n#cybersecurity #nocode #bitcoin'}, {'created_at': '2021-10-07T13:02:47.000Z', 'id': '1446098680231219209', 'text': \"Next week's @EAGE_Global Conference on #SeismicInterpretation using #AI Methods - Going Beyond #MachineLearning includes presentations from @BluwareCorp, Erik Holtar, &amp; @bp_plc Stephen Dee, on a use case of InteractivAI #deeplearning. https://t.co/FHyEnADLO9 https://t.co/ANTSZbg2Eb\"}, {'created_at': '2021-10-07T13:02:46.000Z', 'id': '1446098676808499208', 'text': '#Python 3.10 https://t.co/NEw7SOa6op \\n#DigitaL\\n#teCh #Cloud\\n#AI #DataScience #finServ #MachineLearning #BigData #100DaysOfCode #Python #javaScript #Data #FRENCHteCh #flutter #CX #Linux #business #USA #WomenWhoCode #Coding\\n#Technology #SocialMedia\\n\\n@BetaMoroney\\n@enilev @EvaSmartAI'}, {'created_at': '2021-10-07T13:02:11.000Z', 'id': '1446098529110343681', 'text': 'Register now for our upcoming webinar, \"Applying Data Governance 2.0: Best Practices to Business Intelligence Governance\" in partnership with Metric Insights, Inc. https://t.co/LF9lR4ugiq\\n\\n#analytics #iianalytics #tech #technology #artificialintelligence #machinelearning #ml https://t.co/IA2qffBkqB'}, {'created_at': '2021-10-07T13:02:10.000Z', 'id': '1446098528053379080', 'text': 'Cybersecurity is reaping the benefits of machine learning algorithms.\\n\\n#cybersecurity #artificialintelligence #machinelearning\\n\\nhttps://t.co/KrTYbLg4Fq https://t.co/pitPGU2wjg'}, {'created_at': '2021-10-07T13:02:08.000Z', 'id': '1446098519077625859', 'text': 'A look at the most vulnerabilities in the first half of 2021. https://t.co/AxoHcHWw3i #IoT #sustainability #AI #5G #cloud #edge #digitaltransformation #machinelearning @AtlasVPN #BeCyberSmart @StaySafeOnline https://t.co/LdFBts893h'}, {'created_at': '2021-10-07T13:02:04.000Z', 'id': '1446098501033676804', 'text': 'Listen to the latest fascinating episode of SXM live, we discuss data sharing for machine learning &amp; AI with Dave Food.\\nhttps://t.co/ICguWm85cJ\\n\\n#digitaltransformation #procurement #bigdata #ai #innovation #machinelearning #artificialintelligence #blockchain #technology https://t.co/Ye4En5gfP6'}, {'created_at': '2021-10-07T13:02:04.000Z', 'id': '1446098499137937414', 'text': 'The @Gartner_inc Hype Cycle for Artificial Intelligence 2021: https://t.co/Uasuv0eziS\\n\\nTop 4 Trends:\\n•Operationalizing #AI initiatives\\n•Efficient use of data, models and compute\\n•Responsible AI\\n•Data for AI\\n————\\n#BigData #DataScience #MachineLearning #DeepLearning https://t.co/mzbkMXUggR'}, {'created_at': '2021-10-07T13:02:00.000Z', 'id': '1446098483421798404', 'text': 'Google wants to use #AI to time traffic lights more efficiently #ArtificialIntelligence #Machinelearning #Bigdata\\nhttps://t.co/DQRs5aB5VG'}, {'created_at': '2021-10-07T13:01:59.000Z', 'id': '1446098480934555658', 'text': \"What are you doing next week? We're attending the #NationalSoftwareTestingConference with @testmagazine at the British Museum London 12 &amp; 13 Oct. Time to get your tickets 😉 https://t.co/xsB7vBRDJa\\n\\n#ArtificialIntelligence #MachineLearning #QualityFirst #NLP #RPA  #Conference\"}, {'created_at': '2021-10-07T13:01:59.000Z', 'id': '1446098479688953861', 'text': 'See how Google Vertex AI makes it easier to run #ML Pipelines — with step-by-step guidance from our senior #machinelearning engineer, @HeyerSascha.\\nhttps://t.co/zts1rx5suH'}, {'created_at': '2021-10-07T13:01:58.000Z', 'id': '1446098476589371398', 'text': 'Forms of AI that can facilitate the digital transformation of an organization: https://t.co/dtyCGj2Ao4\\n\\n#AI #artificialintelligence #machinelearning #AITechnology #AIengineer #machinelearningalgorithms #ARTiBA https://t.co/CrXPeTUWyl'}, {'created_at': '2021-10-07T13:01:57.000Z', 'id': '1446098471971442689', 'text': 'Scientific programmer in Machine learning tools for neuroimaging data – The Netherlands\\n https://t.co/XWPZ6AQyHA\\n#scientificprogrammer #scientificprogrammerposition #Radboudumc #TheNetherlands #machinelearning #computerscience #engineering #academicjobs'}, {'created_at': '2021-10-07T13:01:49.000Z', 'id': '1446098436227538945', 'text': 'Explore #HCL #Automation Power Suite\\n#JobScheduling\\n\\n#hclswlobp #nocode #lowcode #javascript #cybersecurity #machinelearning #flutter #nodejs #github #codenewbie #Serverless #DEVCommunity #100DaysOfCode #datascience #womenintech #ai #iot #bot #Python https://t.co/lKtVTmeYnU'}, {'created_at': '2021-10-07T13:01:32.000Z', 'id': '1446098366887305221', 'text': '📲 How #ArtificialIntelligence improves the #UserExperience on your phone\\n\\n🔌 A small example of what difference #AI has made in the smartphone world can be determined by looking at the #Evolution of phone cameras\\n\\nhttps://t.co/Fpqw8QB2vk\\n\\n#MachineLearning #ML #DeepLearning'}, {'created_at': '2021-10-07T13:01:05.000Z', 'id': '1446098254186389505', 'text': 'Applying Digital Tools to Outsourced Services https://t.co/3JMmhXbcof #BusinessProcess #RPA #NLP #MachineLearning #BusinessTransformation #Digtial #ArtificialIntelligence #AcuityPartners #Coruzant #TheDigitalExecutive'}, {'created_at': '2021-10-07T13:01:00.000Z', 'id': '1446098234372288514', 'text': 'Machine learning is a lot like any other skill. #machinelearning https://t.co/m0PSd2iAui'}, {'created_at': '2021-10-07T13:00:55.000Z', 'id': '1446098211563884546', 'text': 'Hear the October 6 Investor Ideas #AIEYE #Podcast;  #artificialintelligence #AI #Stocks #markets #Finance #Business #investing #machinelearning #tech #Technology\\nhttps://t.co/rFhjJa6Wpx https://t.co/iASFBOuap9'}, {'created_at': '2021-10-07T13:00:39.000Z', 'id': '1446098143133585410', 'text': 'This security system deploys a drone when it senses intruders\"\\n#SOSSTSE\\n#OperationBreatheFreshCleanAir\\n#MachineLearning #5G #DataScience #100DaysOfCode\\n#Python #Cybersecurity #BigData #AI #IoT #DeepLearning\\n#ArtificialIntelligence #drone #robots #technews https://t.co/lkBSTC8i4f'}, {'created_at': '2021-10-07T13:00:35.000Z', 'id': '1446098129284182022', 'text': \"It's strange to think that several decades ago, the IT function in a business was just one department among many. Nowadays, everything begins and ends with IT, seeing in recent years, a special attention on #ai and #machinelearning solutions: https://t.co/RwBn1nh1W5\\n#ainews\"}], 'meta': {'newest_id': '1446103559129403392', 'oldest_id': '1446098129284182022', 'result_count': 100, 'next_token': 'b26v89c19zqg8o3fpds8jbliido7ux7otmgjmraekr2pp'}}\n"
     ]
    }
   ],
   "source": [
    "import requests\n",
    "response = requests.get(url, headers=headers, params=params)\n",
    "print(response)\n",
    "# Generar excepción si la respuesta no es exitosa\n",
    "if response.status_code != 200:\n",
    "    raise Exception(response.status_code, response.text)\n",
    "print(response.json())"
   ]
  },
  {
   "cell_type": "markdown",
   "id": "bee63cde",
   "metadata": {},
   "source": [
    "## Formatear respuesta\n",
    "\n",
    "Convertir respuesta en un dataframe de Pandas"
   ]
  },
  {
   "cell_type": "code",
   "execution_count": 8,
   "id": "6377ef96",
   "metadata": {},
   "outputs": [
    {
     "data": {
      "text/html": [
       "<div>\n",
       "<style scoped>\n",
       "    .dataframe tbody tr th:only-of-type {\n",
       "        vertical-align: middle;\n",
       "    }\n",
       "\n",
       "    .dataframe tbody tr th {\n",
       "        vertical-align: top;\n",
       "    }\n",
       "\n",
       "    .dataframe thead th {\n",
       "        text-align: right;\n",
       "    }\n",
       "</style>\n",
       "<table border=\"1\" class=\"dataframe\">\n",
       "  <thead>\n",
       "    <tr style=\"text-align: right;\">\n",
       "      <th></th>\n",
       "      <th>created_at</th>\n",
       "      <th>id</th>\n",
       "      <th>text</th>\n",
       "    </tr>\n",
       "  </thead>\n",
       "  <tbody>\n",
       "    <tr>\n",
       "      <th>0</th>\n",
       "      <td>2021-10-04T20:18:05.000Z</td>\n",
       "      <td>1445121066532175879</td>\n",
       "      <td>#python #datascience #machinelearning #compute...</td>\n",
       "    </tr>\n",
       "    <tr>\n",
       "      <th>1</th>\n",
       "      <td>2021-10-04T20:18:04.000Z</td>\n",
       "      <td>1445121060869795844</td>\n",
       "      <td>#timeseriesanalysis #engineering #ai #machinel...</td>\n",
       "    </tr>\n",
       "    <tr>\n",
       "      <th>2</th>\n",
       "      <td>2021-10-04T20:17:54.000Z</td>\n",
       "      <td>1445121019497177090</td>\n",
       "      <td>Improve the UX of Your Website \\n#ArtificialIn...</td>\n",
       "    </tr>\n",
       "    <tr>\n",
       "      <th>3</th>\n",
       "      <td>2021-10-04T20:17:51.000Z</td>\n",
       "      <td>1445121004292952075</td>\n",
       "      <td>#hclswlobp #nocode #lowcode #javascript #githu...</td>\n",
       "    </tr>\n",
       "    <tr>\n",
       "      <th>4</th>\n",
       "      <td>2021-10-04T20:17:48.000Z</td>\n",
       "      <td>1445120993673060360</td>\n",
       "      <td>I've just updated my webpage with some great a...</td>\n",
       "    </tr>\n",
       "    <tr>\n",
       "      <th>...</th>\n",
       "      <td>...</td>\n",
       "      <td>...</td>\n",
       "      <td>...</td>\n",
       "    </tr>\n",
       "    <tr>\n",
       "      <th>95</th>\n",
       "      <td>2021-10-04T19:59:18.000Z</td>\n",
       "      <td>1445116338473553923</td>\n",
       "      <td>https://t.co/toHC09MXNG \\n\\n#EARTH #SCiENCES \\...</td>\n",
       "    </tr>\n",
       "    <tr>\n",
       "      <th>96</th>\n",
       "      <td>2021-10-04T19:59:17.000Z</td>\n",
       "      <td>1445116331590881289</td>\n",
       "      <td>Containerize Springboot CRUD App With Docker &amp;...</td>\n",
       "    </tr>\n",
       "    <tr>\n",
       "      <th>97</th>\n",
       "      <td>2021-10-04T19:59:02.000Z</td>\n",
       "      <td>1445116271926956032</td>\n",
       "      <td>DeepMind is now able to accurately predict inc...</td>\n",
       "    </tr>\n",
       "    <tr>\n",
       "      <th>98</th>\n",
       "      <td>2021-10-04T19:58:41.000Z</td>\n",
       "      <td>1445116182541991956</td>\n",
       "      <td>Mexican B2B Payments Company Higo Raises A $23...</td>\n",
       "    </tr>\n",
       "    <tr>\n",
       "      <th>99</th>\n",
       "      <td>2021-10-04T19:57:42.000Z</td>\n",
       "      <td>1445115933140283396</td>\n",
       "      <td>https://t.co/au29VGQY2h \\n#Environment #World ...</td>\n",
       "    </tr>\n",
       "  </tbody>\n",
       "</table>\n",
       "<p>100 rows × 3 columns</p>\n",
       "</div>"
      ],
      "text/plain": [
       "                  created_at                   id  \\\n",
       "0   2021-10-04T20:18:05.000Z  1445121066532175879   \n",
       "1   2021-10-04T20:18:04.000Z  1445121060869795844   \n",
       "2   2021-10-04T20:17:54.000Z  1445121019497177090   \n",
       "3   2021-10-04T20:17:51.000Z  1445121004292952075   \n",
       "4   2021-10-04T20:17:48.000Z  1445120993673060360   \n",
       "..                       ...                  ...   \n",
       "95  2021-10-04T19:59:18.000Z  1445116338473553923   \n",
       "96  2021-10-04T19:59:17.000Z  1445116331590881289   \n",
       "97  2021-10-04T19:59:02.000Z  1445116271926956032   \n",
       "98  2021-10-04T19:58:41.000Z  1445116182541991956   \n",
       "99  2021-10-04T19:57:42.000Z  1445115933140283396   \n",
       "\n",
       "                                                 text  \n",
       "0   #python #datascience #machinelearning #compute...  \n",
       "1   #timeseriesanalysis #engineering #ai #machinel...  \n",
       "2   Improve the UX of Your Website \\n#ArtificialIn...  \n",
       "3   #hclswlobp #nocode #lowcode #javascript #githu...  \n",
       "4   I've just updated my webpage with some great a...  \n",
       "..                                                ...  \n",
       "95  https://t.co/toHC09MXNG \\n\\n#EARTH #SCiENCES \\...  \n",
       "96  Containerize Springboot CRUD App With Docker &...  \n",
       "97  DeepMind is now able to accurately predict inc...  \n",
       "98  Mexican B2B Payments Company Higo Raises A $23...  \n",
       "99  https://t.co/au29VGQY2h \\n#Environment #World ...  \n",
       "\n",
       "[100 rows x 3 columns]"
      ]
     },
     "execution_count": 8,
     "metadata": {},
     "output_type": "execute_result"
    }
   ],
   "source": [
    "import pandas as pd\n",
    "df = pd.json_normalize(response.json()['data'])\n",
    "df"
   ]
  },
  {
   "cell_type": "markdown",
   "id": "5e23d4c6",
   "metadata": {},
   "source": [
    "# Ejercicios\n",
    "\n",
    " A partir de la documentación del endpoint <a href=\"https://developer.twitter.com/en/docs/twitter-api/tweets/search/api-reference/get-tweets-search-recent\"> Recent </a> y las opciones de <a href=\"https://developer.twitter.com/en/docs/twitter-api/tweets/search/integrate/build-a-query\"> query </a> obtener:\n",
    " \n",
    " - Una lista de las fechas y creación de los tweets realizados por el usuario @kdnuggets que contenga el hashtag #NLP"
   ]
  },
  {
   "cell_type": "code",
   "execution_count": 78,
   "id": "abbd9005",
   "metadata": {},
   "outputs": [
    {
     "name": "stdout",
     "output_type": "stream",
     "text": [
      "<Response [200]>\n"
     ]
    },
    {
     "data": {
      "text/html": [
       "<div>\n",
       "<style scoped>\n",
       "    .dataframe tbody tr th:only-of-type {\n",
       "        vertical-align: middle;\n",
       "    }\n",
       "\n",
       "    .dataframe tbody tr th {\n",
       "        vertical-align: top;\n",
       "    }\n",
       "\n",
       "    .dataframe thead th {\n",
       "        text-align: right;\n",
       "    }\n",
       "</style>\n",
       "<table border=\"1\" class=\"dataframe\">\n",
       "  <thead>\n",
       "    <tr style=\"text-align: right;\">\n",
       "      <th></th>\n",
       "      <th>created_at</th>\n",
       "      <th>id</th>\n",
       "      <th>text</th>\n",
       "    </tr>\n",
       "  </thead>\n",
       "  <tbody>\n",
       "    <tr>\n",
       "      <th>0</th>\n",
       "      <td>2021-10-06T13:15:47.000Z</td>\n",
       "      <td>1445739564098678786</td>\n",
       "      <td>All Recent Books Written By GPT-3 - @OpenAI \\n...</td>\n",
       "    </tr>\n",
       "    <tr>\n",
       "      <th>1</th>\n",
       "      <td>2021-09-30T23:45:04.000Z</td>\n",
       "      <td>1443723602067611656</td>\n",
       "      <td>A Breakdown of Deep Learning Frameworks\\nhttps...</td>\n",
       "    </tr>\n",
       "  </tbody>\n",
       "</table>\n",
       "</div>"
      ],
      "text/plain": [
       "                 created_at                   id  \\\n",
       "0  2021-10-06T13:15:47.000Z  1445739564098678786   \n",
       "1  2021-09-30T23:45:04.000Z  1443723602067611656   \n",
       "\n",
       "                                                text  \n",
       "0  All Recent Books Written By GPT-3 - @OpenAI \\n...  \n",
       "1  A Breakdown of Deep Learning Frameworks\\nhttps...  "
      ]
     },
     "execution_count": 78,
     "metadata": {},
     "output_type": "execute_result"
    }
   ],
   "source": [
    "user='@kdnuggets'\n",
    "hashtag='#NLP'\n",
    "params = {\n",
    "    'query': f'{user} {hashtag} -is:retweet',\n",
    "    'tweet.fields': 'created_at',\n",
    "    'max_results': 100\n",
    "} \n",
    "response = requests.get(url, headers=headers, params=params)\n",
    "print(response)\n",
    "# Generar excepción si la respuesta no es exitosa\n",
    "if response.status_code != 200:\n",
    "    raise Exception(response.status_code, response.text)\n",
    "df = pd.json_normalize(response.json()['data'])\n",
    "df"
   ]
  },
  {
   "cell_type": "markdown",
   "id": "a8fd45c2",
   "metadata": {},
   "source": [
    "- Una lista de los textos y nombres de usuario correspondientes a los tweets que contengan los hashtags #NLP y #MachineLearning que no sean retweets"
   ]
  },
  {
   "cell_type": "code",
   "execution_count": 84,
   "id": "2771d7f2",
   "metadata": {},
   "outputs": [
    {
     "name": "stdout",
     "output_type": "stream",
     "text": [
      "<Response [200]>\n",
      "{'data': [{'author_id': '1156578830879997954', 'id': '1443975999910301697', 'text': \"Giacomo Fava, Lead Artificial Intelligence Engineer di @CherryNpl, parla di #IntelligenzaArtificiale, #MachineLearning e #DeepLearning, di #potenzialità, #sfide e #innovazione.\\n\\nLeggi l'articolo completo sul #CherryBlog! 🍒🍒🍒\\n\\n--&gt; https://t.co/8rPpxGK53D\\n\\n#cherry #npl #fintech\"}], 'includes': {'users': [{'id': '1156578830879997954', 'name': 'Cherry NPL', 'username': 'CherryNpl'}]}, 'meta': {'newest_id': '1443975999910301697', 'oldest_id': '1443975999910301697', 'result_count': 1}}\n"
     ]
    },
    {
     "data": {
      "text/html": [
       "<div>\n",
       "<style scoped>\n",
       "    .dataframe tbody tr th:only-of-type {\n",
       "        vertical-align: middle;\n",
       "    }\n",
       "\n",
       "    .dataframe tbody tr th {\n",
       "        vertical-align: top;\n",
       "    }\n",
       "\n",
       "    .dataframe thead th {\n",
       "        text-align: right;\n",
       "    }\n",
       "</style>\n",
       "<table border=\"1\" class=\"dataframe\">\n",
       "  <thead>\n",
       "    <tr style=\"text-align: right;\">\n",
       "      <th></th>\n",
       "      <th>text</th>\n",
       "      <th>username</th>\n",
       "    </tr>\n",
       "  </thead>\n",
       "  <tbody>\n",
       "    <tr>\n",
       "      <th>0</th>\n",
       "      <td>Giacomo Fava, Lead Artificial Intelligence Eng...</td>\n",
       "      <td>CherryNpl</td>\n",
       "    </tr>\n",
       "  </tbody>\n",
       "</table>\n",
       "</div>"
      ],
      "text/plain": [
       "                                                text   username\n",
       "0  Giacomo Fava, Lead Artificial Intelligence Eng...  CherryNpl"
      ]
     },
     "execution_count": 84,
     "metadata": {},
     "output_type": "execute_result"
    }
   ],
   "source": [
    "hashtag='#NPL #MachineLearning'\n",
    "params = {\n",
    "    'query': f'{hashtag} -is:retweet',\n",
    "    'user.fields': 'username',\n",
    "    'expansions': 'author_id',\n",
    "    'max_results': 10\n",
    "} \n",
    "response = requests.get(url, headers=headers, params=params)\n",
    "print(response)\n",
    "# Generar excepción si la respuesta no es exitosa\n",
    "if response.status_code != 200:\n",
    "    raise Exception(response.status_code, response.text)\n",
    "print(response.json())\n",
    "df1 = pd.json_normalize(response.json()['data'])\n",
    "df2 = pd.json_normalize(response.json()['includes']['users'])\n",
    "# Hago un merge entre ambos df aplicando un 'join'. Elimino las columnas que no necesito\n",
    "pd.merge(df1, df2, left_on='author_id', right_on='id').drop(['id_x', 'id_y', 'author_id', 'name'], axis=1)"
   ]
  },
  {
   "cell_type": "markdown",
   "id": "ed3deeac",
   "metadata": {},
   "source": [
    "- Una lista de los textos y enlaces de los tweets que contengan los hashtags #InteligenciaArtificial o #IA en español"
   ]
  },
  {
   "cell_type": "code",
   "execution_count": 121,
   "id": "867275e8",
   "metadata": {},
   "outputs": [
    {
     "name": "stdout",
     "output_type": "stream",
     "text": [
      "<Response [401]>\n"
     ]
    },
    {
     "ename": "Exception",
     "evalue": "(401, '{\"title\":\"Unauthorized\",\"detail\":\"Unauthorized\",\"type\":\"about:blank\",\"status\":401}')",
     "output_type": "error",
     "traceback": [
      "\u001b[1;31m---------------------------------------------------------------------------\u001b[0m",
      "\u001b[1;31mException\u001b[0m                                 Traceback (most recent call last)",
      "\u001b[1;32m<ipython-input-121-11867fb9bf26>\u001b[0m in \u001b[0;36m<module>\u001b[1;34m\u001b[0m\n\u001b[0;32m     15\u001b[0m \u001b[1;31m# Generar excepción si la respuesta no es exitosa\u001b[0m\u001b[1;33m\u001b[0m\u001b[1;33m\u001b[0m\u001b[1;33m\u001b[0m\u001b[0m\n\u001b[0;32m     16\u001b[0m \u001b[1;32mif\u001b[0m \u001b[0mresponse\u001b[0m\u001b[1;33m.\u001b[0m\u001b[0mstatus_code\u001b[0m \u001b[1;33m!=\u001b[0m \u001b[1;36m200\u001b[0m\u001b[1;33m:\u001b[0m\u001b[1;33m\u001b[0m\u001b[1;33m\u001b[0m\u001b[0m\n\u001b[1;32m---> 17\u001b[1;33m     \u001b[1;32mraise\u001b[0m \u001b[0mException\u001b[0m\u001b[1;33m(\u001b[0m\u001b[0mresponse\u001b[0m\u001b[1;33m.\u001b[0m\u001b[0mstatus_code\u001b[0m\u001b[1;33m,\u001b[0m \u001b[0mresponse\u001b[0m\u001b[1;33m.\u001b[0m\u001b[0mtext\u001b[0m\u001b[1;33m)\u001b[0m\u001b[1;33m\u001b[0m\u001b[1;33m\u001b[0m\u001b[0m\n\u001b[0m\u001b[0;32m     18\u001b[0m \u001b[0mdf1\u001b[0m \u001b[1;33m=\u001b[0m \u001b[0mpd\u001b[0m\u001b[1;33m.\u001b[0m\u001b[0mjson_normalize\u001b[0m\u001b[1;33m(\u001b[0m\u001b[0mresponse\u001b[0m\u001b[1;33m.\u001b[0m\u001b[0mjson\u001b[0m\u001b[1;33m(\u001b[0m\u001b[1;33m)\u001b[0m\u001b[1;33m[\u001b[0m\u001b[1;34m'data'\u001b[0m\u001b[1;33m]\u001b[0m\u001b[1;33m)\u001b[0m\u001b[1;33m\u001b[0m\u001b[1;33m\u001b[0m\u001b[0m\n\u001b[0;32m     19\u001b[0m \u001b[0mdf2\u001b[0m \u001b[1;33m=\u001b[0m \u001b[0mpd\u001b[0m\u001b[1;33m.\u001b[0m\u001b[0mjson_normalize\u001b[0m\u001b[1;33m(\u001b[0m\u001b[0mresponse\u001b[0m\u001b[1;33m.\u001b[0m\u001b[0mjson\u001b[0m\u001b[1;33m(\u001b[0m\u001b[1;33m)\u001b[0m\u001b[1;33m[\u001b[0m\u001b[1;34m'includes'\u001b[0m\u001b[1;33m]\u001b[0m\u001b[1;33m[\u001b[0m\u001b[1;34m'users'\u001b[0m\u001b[1;33m]\u001b[0m\u001b[1;33m)\u001b[0m\u001b[1;33m\u001b[0m\u001b[1;33m\u001b[0m\u001b[0m\n",
      "\u001b[1;31mException\u001b[0m: (401, '{\"title\":\"Unauthorized\",\"detail\":\"Unauthorized\",\"type\":\"about:blank\",\"status\":401}')"
     ]
    }
   ],
   "source": [
    "twitterUrl='https://twitter.com/'\n",
    "hashtag='#InteligenciaArtificial #IA'\n",
    "lang='es'\n",
    "params = {\n",
    "    'query': f'{hashtag} {lang} -is:retweet',\n",
    "    'user.fields': 'username',\n",
    "    'expansions': 'author_id',\n",
    "    'max_results': 100\n",
    "} \n",
    "response = requests.get(url, headers=headers, params=params)\n",
    "print(response)\n",
    "#print(response.json())\n",
    "\n",
    "# Generar excepción si la respuesta no es exitosa\n",
    "if response.status_code != 200:\n",
    "    raise Exception(response.status_code, response.text)\n",
    "df1 = pd.json_normalize(response.json()['data'])\n",
    "df2 = pd.json_normalize(response.json()['includes']['users'])\n",
    "# Hago un merge entre ambos df aplicando un 'join'.\n",
    "dfmerge = pd.merge(df1, df2, left_on='author_id', right_on='id')\n",
    "# Agrego una columna para formar el enlace al tweet.. La url final tiene la forma: https://twitter.com/{username}/status/{tweetId}\n",
    "dfmerge['url'] = twitterUrl + dfmerge['username'] + \"/status/\" + dfmerge['id_x']\n",
    "#Elimino las columnas que no necesito\n",
    "del dfmerge['author_id']\n",
    "del dfmerge['id_x']\n",
    "del dfmerge['id_y']\n",
    "del dfmerge['name']\n",
    "del dfmerge['username']\n",
    "pd.set_option('display.max_colwidth', None)\n",
    "dfmerge"
   ]
  },
  {
   "cell_type": "markdown",
   "id": "238118d1",
   "metadata": {},
   "source": [
    "## Descargar a CSV"
   ]
  },
  {
   "cell_type": "code",
   "execution_count": 115,
   "id": "19fe8189",
   "metadata": {},
   "outputs": [],
   "source": [
    "dfmerge.to_csv('tweets_ej2.csv')  "
   ]
  },
  {
   "cell_type": "code",
   "execution_count": null,
   "id": "21bc3f7a",
   "metadata": {},
   "outputs": [],
   "source": []
  }
 ],
 "metadata": {
  "kernelspec": {
   "display_name": "Python 3",
   "language": "python",
   "name": "python3"
  },
  "language_info": {
   "codemirror_mode": {
    "name": "ipython",
    "version": 3
   },
   "file_extension": ".py",
   "mimetype": "text/x-python",
   "name": "python",
   "nbconvert_exporter": "python",
   "pygments_lexer": "ipython3",
   "version": "3.8.8"
  }
 },
 "nbformat": 4,
 "nbformat_minor": 5
}
