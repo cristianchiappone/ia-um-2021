{
 "cells": [
  {
   "cell_type": "markdown",
   "id": "58da4e54",
   "metadata": {},
   "source": [
    "# Trabajo Práctico\n",
    "\n",
    "Elegir un tema, persona, situación o evento y crear un sistema que:\n",
    "- Obtenga los Tweets asociados con dicho tema (Hashtag y/o Palabras claves)\n",
    "- Aplique algunas de las técnicas de PNL (Tokenización, POS, Lematización, Derivación, Polarización)\n",
    "- Obtener algunos de los siguientes datos (¿Quíenes están involucrados?, ¿De qué se trata?, ¿En qué lugares ocurre la acción?, ¿Qué opinion o sentimientos expresa la gente?\n",
    "- Generar resultados (Gráficos, tablas )"
   ]
  }
 ],
 "metadata": {
  "kernelspec": {
   "display_name": "Python 3",
   "language": "python",
   "name": "python3"
  },
  "language_info": {
   "codemirror_mode": {
    "name": "ipython",
    "version": 3
   },
   "file_extension": ".py",
   "mimetype": "text/x-python",
   "name": "python",
   "nbconvert_exporter": "python",
   "pygments_lexer": "ipython3",
   "version": "3.8.8"
  }
 },
 "nbformat": 4,
 "nbformat_minor": 5
}
